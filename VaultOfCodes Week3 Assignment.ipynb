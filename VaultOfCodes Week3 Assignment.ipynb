{
 "cells": [
  {
   "cell_type": "markdown",
   "id": "09af87e6-20da-4fcd-a83c-3fad191858f3",
   "metadata": {},
   "source": [
    "**Illustrating a To-Do List Management System USING Data Structures**\r\n"
   ]
  },
  {
   "cell_type": "code",
   "execution_count": 7,
   "id": "9edc9c37-8035-4286-9c9a-08fd3a5ee468",
   "metadata": {},
   "outputs": [
    {
     "name": "stdout",
     "output_type": "stream",
     "text": [
      "\n",
      "To-Do List Application\n",
      "1. Add Task\n",
      "2. Display Tasks\n",
      "3. Mark Task as Complete by Index\n",
      "4. Display Completed Tasks\n",
      "5. Display Incomplete Tasks\n",
      "6. Delete Task by Index\n",
      "0. Exit\n"
     ]
    },
    {
     "name": "stdin",
     "output_type": "stream",
     "text": [
      "Enter your choice (0-6):  1\n",
      "Enter the task (Else press '0' to exit to Main Screen):  Swimming\n"
     ]
    },
    {
     "name": "stdout",
     "output_type": "stream",
     "text": [
      "Task \"Swimming\" added successfully.\n",
      "\n",
      "To-Do List Application\n",
      "1. Add Task\n",
      "2. Display Tasks\n",
      "3. Mark Task as Complete by Index\n",
      "4. Display Completed Tasks\n",
      "5. Display Incomplete Tasks\n",
      "6. Delete Task by Index\n",
      "0. Exit\n"
     ]
    },
    {
     "name": "stdin",
     "output_type": "stream",
     "text": [
      "Enter your choice (0-6):  1\n",
      "Enter the task (Else press '0' to exit to Main Screen):  Running\n"
     ]
    },
    {
     "name": "stdout",
     "output_type": "stream",
     "text": [
      "Task \"Running\" added successfully.\n",
      "\n",
      "To-Do List Application\n",
      "1. Add Task\n",
      "2. Display Tasks\n",
      "3. Mark Task as Complete by Index\n",
      "4. Display Completed Tasks\n",
      "5. Display Incomplete Tasks\n",
      "6. Delete Task by Index\n",
      "0. Exit\n"
     ]
    },
    {
     "name": "stdin",
     "output_type": "stream",
     "text": [
      "Enter your choice (0-6):  1\n",
      "Enter the task (Else press '0' to exit to Main Screen):  Walking\n"
     ]
    },
    {
     "name": "stdout",
     "output_type": "stream",
     "text": [
      "Task \"Walking\" added successfully.\n",
      "\n",
      "To-Do List Application\n",
      "1. Add Task\n",
      "2. Display Tasks\n",
      "3. Mark Task as Complete by Index\n",
      "4. Display Completed Tasks\n",
      "5. Display Incomplete Tasks\n",
      "6. Delete Task by Index\n",
      "0. Exit\n"
     ]
    },
    {
     "name": "stdin",
     "output_type": "stream",
     "text": [
      "Enter your choice (0-6):  3\n"
     ]
    },
    {
     "name": "stdout",
     "output_type": "stream",
     "text": [
      "To-Do List:\n",
      "1. Swimming\n",
      "2. Running\n",
      "3. Walking\n"
     ]
    },
    {
     "name": "stdin",
     "output_type": "stream",
     "text": [
      "Enter the index of the task to mark as complete (Else press '0' to exit to Main Screen):  1\n"
     ]
    },
    {
     "name": "stdout",
     "output_type": "stream",
     "text": [
      "Task \"Swimming\" marked as complete.\n",
      "\n",
      "To-Do List Application\n",
      "1. Add Task\n",
      "2. Display Tasks\n",
      "3. Mark Task as Complete by Index\n",
      "4. Display Completed Tasks\n",
      "5. Display Incomplete Tasks\n",
      "6. Delete Task by Index\n",
      "0. Exit\n"
     ]
    },
    {
     "name": "stdin",
     "output_type": "stream",
     "text": [
      "Enter your choice (0-6):  5\n"
     ]
    },
    {
     "name": "stdout",
     "output_type": "stream",
     "text": [
      "Incomplete Tasks:\n",
      "Running\n",
      "Walking\n",
      "\n",
      "To-Do List Application\n",
      "1. Add Task\n",
      "2. Display Tasks\n",
      "3. Mark Task as Complete by Index\n",
      "4. Display Completed Tasks\n",
      "5. Display Incomplete Tasks\n",
      "6. Delete Task by Index\n",
      "0. Exit\n"
     ]
    },
    {
     "name": "stdin",
     "output_type": "stream",
     "text": [
      "Enter your choice (0-6):  6\n"
     ]
    },
    {
     "name": "stdout",
     "output_type": "stream",
     "text": [
      "To-Do List:\n",
      "1. Running\n",
      "2. Walking\n"
     ]
    },
    {
     "name": "stdin",
     "output_type": "stream",
     "text": [
      "Enter the index of the task to delete (Else press '0' to exit to Main Screen):  1\n"
     ]
    },
    {
     "name": "stdout",
     "output_type": "stream",
     "text": [
      "Task \"Running\" deleted successfully.\n",
      "\n",
      "To-Do List Application\n",
      "1. Add Task\n",
      "2. Display Tasks\n",
      "3. Mark Task as Complete by Index\n",
      "4. Display Completed Tasks\n",
      "5. Display Incomplete Tasks\n",
      "6. Delete Task by Index\n",
      "0. Exit\n"
     ]
    },
    {
     "name": "stdin",
     "output_type": "stream",
     "text": [
      "Enter your choice (0-6):  2\n"
     ]
    },
    {
     "name": "stdout",
     "output_type": "stream",
     "text": [
      "To-Do List:\n",
      "1. Walking\n",
      "\n",
      "To-Do List Application\n",
      "1. Add Task\n",
      "2. Display Tasks\n",
      "3. Mark Task as Complete by Index\n",
      "4. Display Completed Tasks\n",
      "5. Display Incomplete Tasks\n",
      "6. Delete Task by Index\n",
      "0. Exit\n"
     ]
    },
    {
     "name": "stdin",
     "output_type": "stream",
     "text": [
      "Enter your choice (0-6):  0\n"
     ]
    },
    {
     "name": "stdout",
     "output_type": "stream",
     "text": [
      "Exiting the to-do list application. Goodbye!\n"
     ]
    }
   ],
   "source": [
    "##### Function to mark a task as complete by index\n",
    "def mark_complete_by_index(todo_dict, completed_tasks, index):\n",
    "    tasks = list(todo_dict.keys())\n",
    "    if 1 <= index <= len(tasks):\n",
    "        task_to_mark = tasks[index - 1]\n",
    "        completed_tasks[task_to_mark] = todo_dict.pop(task_to_mark)\n",
    "        print(f'Task \"{task_to_mark}\" marked as complete.')\n",
    "    else:\n",
    "        print(\"Invalid index. Please enter a valid index.\")\n",
    "\n",
    "# Function to display completed tasks\n",
    "def display_completed_tasks(completed_tasks):\n",
    "    if completed_tasks:\n",
    "        print(\"Completed Tasks:\")\n",
    "        for task, completion_status in completed_tasks.items():\n",
    "            print(f\"{task}\")\n",
    "    else:\n",
    "        print(\"No completed tasks.\")\n",
    "\n",
    "# Function to display incomplete tasks\n",
    "def display_incomplete_tasks(todo_dict):\n",
    "    if todo_dict:\n",
    "        print(\"Incomplete Tasks:\")\n",
    "        for task, completion_status in todo_dict.items():\n",
    "            print(f\"{task}\")\n",
    "    else:\n",
    "        print(\"No incomplete tasks.\")\n",
    "\n",
    "# Function to add a task to the to-do list\n",
    "def add_task(todo_dict, task):\n",
    "    todo_dict[task] = False  # False indicates that the task is incomplete\n",
    "    print(f'Task \"{task}\" added successfully.')\n",
    "\n",
    "# Function to delete a task from the to-do list by index\n",
    "def delete_task_by_index(todo_dict, index):\n",
    "    tasks = list(todo_dict.keys())\n",
    "    if 1 <= index <= len(tasks):\n",
    "        deleted_task = tasks[index - 1]\n",
    "        del todo_dict[deleted_task]\n",
    "        print(f'Task \"{deleted_task}\" deleted successfully.')\n",
    "    else:\n",
    "        print(\"Invalid index. Please enter a valid index.\")\n",
    "\n",
    "# Function to update task indices after deletion\n",
    "def update_task_indices(todo_dict):\n",
    "    for i, task in enumerate(todo_dict.keys(), start=1):\n",
    "        print(f\"{i}. {task}\")\n",
    "\n",
    "# Function to display the list of tasks with indices\n",
    "def display_tasks_with_indices(todo_dict):\n",
    "    if todo_dict:\n",
    "        print(\"To-Do List:\")\n",
    "        for index, task in enumerate(todo_dict.keys(), start=1):\n",
    "            print(f\"{index}. {task}\")\n",
    "    else:\n",
    "        print(\"No tasks in the to-do list.\")\n",
    "\n",
    "# Main function to run the to-do list application\n",
    "def main():\n",
    "    todo_dict = {}\n",
    "    completed_tasks = {}\n",
    "\n",
    "    while True:\n",
    "        print(\"\\nTo-Do List Application\")\n",
    "        print(\"1. Add Task\")\n",
    "        print(\"2. Display Tasks\")\n",
    "        print(\"3. Mark Task as Complete by Index\")\n",
    "        print(\"4. Display Completed Tasks\")\n",
    "        print(\"5. Display Incomplete Tasks\")\n",
    "        print(\"6. Delete Task by Index\")\n",
    "        print(\"0. Exit\")\n",
    "\n",
    "        choice = input(\"Enter your choice (0-6): \")\n",
    "\n",
    "        if choice == '1':\n",
    "            task = input(\"Enter the task (Else press '0' to exit to Main Screen): \")\n",
    "            if task == '0':\n",
    "                continue\n",
    "            add_task(todo_dict, task)\n",
    "        elif choice == '2':\n",
    "            display_tasks_with_indices(todo_dict)\n",
    "        elif choice == '3':\n",
    "            display_tasks_with_indices(todo_dict)\n",
    "            index = int(input(\"Enter the index of the task to mark as complete (Else press '0' to exit to Main Screen): \"))\n",
    "            if index == 0:\n",
    "                continue\n",
    "            mark_complete_by_index(todo_dict, completed_tasks, index)\n",
    "        elif choice == '4':\n",
    "            display_completed_tasks(completed_tasks)\n",
    "        elif choice == '5':\n",
    "            display_incomplete_tasks(todo_dict)\n",
    "        elif choice == '6':\n",
    "            display_tasks_with_indices(todo_dict)\n",
    "            index = int(input(\"Enter the index of the task to delete (Else press '0' to exit to Main Screen): \"))\n",
    "            if index == 0:\n",
    "                continue\n",
    "            delete_task_by_index(todo_dict, index)\n",
    "        elif choice == '0':\n",
    "            print(\"Exiting the to-do list application. Goodbye!\")\n",
    "            break\n",
    "        else:\n",
    "            print(\"Invalid choice. Please enter a number between 0 and 6.\")\n",
    "\n",
    "if __name__ == \"__main__\":\n",
    "    main()\n"
   ]
  },
  {
   "cell_type": "code",
   "execution_count": null,
   "id": "e631758e-6592-479e-b2b2-c043dc6f3390",
   "metadata": {},
   "outputs": [],
   "source": []
  }
 ],
 "metadata": {
  "kernelspec": {
   "display_name": "Python 3 (ipykernel)",
   "language": "python",
   "name": "python3"
  },
  "language_info": {
   "codemirror_mode": {
    "name": "ipython",
    "version": 3
   },
   "file_extension": ".py",
   "mimetype": "text/x-python",
   "name": "python",
   "nbconvert_exporter": "python",
   "pygments_lexer": "ipython3",
   "version": "3.11.5"
  }
 },
 "nbformat": 4,
 "nbformat_minor": 5
}
